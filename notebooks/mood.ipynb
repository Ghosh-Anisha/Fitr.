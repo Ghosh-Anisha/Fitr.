{
  "nbformat": 4,
  "nbformat_minor": 0,
  "metadata": {
    "colab": {
      "name": "mood.ipynb",
      "provenance": []
    },
    "kernelspec": {
      "name": "python3",
      "display_name": "Python 3"
    },
    "language_info": {
      "name": "python"
    }
  },
  "cells": [
    {
      "cell_type": "code",
      "execution_count": 1,
      "metadata": {
        "id": "StnkE7uGPBIG"
      },
      "outputs": [],
      "source": [
        "import pandas as pd \n",
        "import numpy as np"
      ]
    },
    {
      "cell_type": "code",
      "source": [
        "df = pd.read_csv('/content/25.csv')\n",
        "y=pd.read_csv('/content/25.csv')"
      ],
      "metadata": {
        "id": "mHbPZgMnPGhk"
      },
      "execution_count": 24,
      "outputs": []
    },
    {
      "cell_type": "code",
      "source": [
        "df.head"
      ],
      "metadata": {
        "colab": {
          "base_uri": "https://localhost:8080/"
        },
        "id": "ERvT0Z8jPnN3",
        "outputId": "de5240e3-581b-497f-b59e-abe21bd00042"
      },
      "execution_count": 3,
      "outputs": [
        {
          "output_type": "execute_result",
          "data": {
            "text/plain": [
              "<bound method NDFrame.head of           date  step_count  mood  ...  hours_of_sleep  bool_of_active  weight_kg\n",
              "0   2017-10-06        5464   200  ...               5               0         66\n",
              "1   2017-10-07        6041   100  ...               8               0         66\n",
              "2   2017-10-08          25   100  ...               5               0         66\n",
              "3   2017-10-09        5461   100  ...               4               0         66\n",
              "4   2017-10-10        6915   200  ...               5             500         66\n",
              "..         ...         ...   ...  ...             ...             ...        ...\n",
              "91  2018-01-05         133   100  ...               2               0         64\n",
              "92  2018-01-06         153   300  ...               8               0         64\n",
              "93  2018-01-07         500   200  ...               5             500         64\n",
              "94  2018-01-08        2127   200  ...               5               0         64\n",
              "95  2018-01-09        2203   300  ...               5             500         64\n",
              "\n",
              "[96 rows x 7 columns]>"
            ]
          },
          "metadata": {},
          "execution_count": 3
        }
      ]
    },
    {
      "cell_type": "code",
      "source": [
        "df.columns\n"
      ],
      "metadata": {
        "colab": {
          "base_uri": "https://localhost:8080/"
        },
        "id": "YQ96MGVbPvWf",
        "outputId": "a4a6722e-f436-4052-82ee-02bc29a8da07"
      },
      "execution_count": 4,
      "outputs": [
        {
          "output_type": "execute_result",
          "data": {
            "text/plain": [
              "Index(['date', 'step_count', 'mood', 'calories_burned', 'hours_of_sleep',\n",
              "       'bool_of_active', 'weight_kg'],\n",
              "      dtype='object')"
            ]
          },
          "metadata": {},
          "execution_count": 4
        }
      ]
    },
    {
      "cell_type": "code",
      "source": [
        "df.drop(['date','mood'],axis=1,inplace=True)\n",
        "\n",
        "y.drop(['date','step_count','calories_burned', 'hours_of_sleep',\n",
        "       'bool_of_active', 'weight_kg'],axis=1, inplace=True)\n",
        "\n",
        "        "
      ],
      "metadata": {
        "id": "ACeqAmnPP83D"
      },
      "execution_count": 25,
      "outputs": []
    },
    {
      "cell_type": "code",
      "source": [
        "y.head"
      ],
      "metadata": {
        "id": "3u0Z8TXpXOk7",
        "outputId": "df8d06da-d3df-49cb-a484-f4667f87dec0",
        "colab": {
          "base_uri": "https://localhost:8080/"
        }
      },
      "execution_count": 21,
      "outputs": [
        {
          "output_type": "execute_result",
          "data": {
            "text/plain": [
              "<bound method NDFrame.head of 0     200\n",
              "1     100\n",
              "2     100\n",
              "3     100\n",
              "4     200\n",
              "     ... \n",
              "91    100\n",
              "92    300\n",
              "93    200\n",
              "94    200\n",
              "95    300\n",
              "Name: mood, Length: 96, dtype: int64>"
            ]
          },
          "metadata": {},
          "execution_count": 21
        }
      ]
    },
    {
      "cell_type": "code",
      "source": [
        "def fun(x):\n",
        "  if x==500:\n",
        "    return 1\n",
        "  else:\n",
        "    return 0\n",
        "df['bool_of_active']=df['bool_of_active'].apply(fun)\n"
      ],
      "metadata": {
        "id": "peEyWZYpUfc8"
      },
      "execution_count": 26,
      "outputs": []
    },
    {
      "cell_type": "code",
      "source": [
        "def fun2(x):\n",
        "  if x==100:\n",
        "    return 1\n",
        "  elif x==200:\n",
        "    return 2\n",
        "  else:\n",
        "    return 3"
      ],
      "metadata": {
        "id": "7JSJ_w7QVS3G"
      },
      "execution_count": 27,
      "outputs": []
    },
    {
      "cell_type": "code",
      "source": [
        "y['mood']=y['mood'].apply(fun2)"
      ],
      "metadata": {
        "id": "3EzfbV2xXFsz"
      },
      "execution_count": 28,
      "outputs": []
    },
    {
      "cell_type": "code",
      "source": [
        "df.shape"
      ],
      "metadata": {
        "id": "13jgcKe-Q7PD",
        "outputId": "a042d047-61f3-4849-b976-5b450466d43c",
        "colab": {
          "base_uri": "https://localhost:8080/"
        }
      },
      "execution_count": 10,
      "outputs": [
        {
          "output_type": "execute_result",
          "data": {
            "text/plain": [
              "(96, 5)"
            ]
          },
          "metadata": {},
          "execution_count": 10
        }
      ]
    },
    {
      "cell_type": "code",
      "source": [
        "from sklearn.model_selection import cross_val_score\n",
        "from sklearn.model_selection import RepeatedKFold\n",
        "from xgboost import XGBClassifier\n",
        "from sklearn.model_selection import train_test_split\n",
        "\n"
      ],
      "metadata": {
        "id": "Mb_Gv0QHRuoH"
      },
      "execution_count": 29,
      "outputs": []
    },
    {
      "cell_type": "code",
      "source": [
        "model = XGBClassifier()\n",
        "X_train, X_test, y_train, y_test = train_test_split(\n",
        "    df, y, stratify=y, random_state=1121218\n",
        ")\n",
        "model.fit(X_train, y_train)\n"
      ],
      "metadata": {
        "id": "lRFxpfuDRYEf",
        "outputId": "6bbe2c1c-7165-4891-8b3d-c9db2cc8ebc0",
        "colab": {
          "base_uri": "https://localhost:8080/"
        }
      },
      "execution_count": 30,
      "outputs": [
        {
          "output_type": "stream",
          "name": "stderr",
          "text": [
            "/usr/local/lib/python3.7/dist-packages/sklearn/preprocessing/_label.py:98: DataConversionWarning: A column-vector y was passed when a 1d array was expected. Please change the shape of y to (n_samples, ), for example using ravel().\n",
            "  y = column_or_1d(y, warn=True)\n",
            "/usr/local/lib/python3.7/dist-packages/sklearn/preprocessing/_label.py:133: DataConversionWarning: A column-vector y was passed when a 1d array was expected. Please change the shape of y to (n_samples, ), for example using ravel().\n",
            "  y = column_or_1d(y, warn=True)\n"
          ]
        },
        {
          "output_type": "execute_result",
          "data": {
            "text/plain": [
              "XGBClassifier(objective='multi:softprob')"
            ]
          },
          "metadata": {},
          "execution_count": 30
        }
      ]
    },
    {
      "cell_type": "code",
      "source": [
        "from sklearn.metrics import accuracy_score\n",
        "y_pred=model.predict(X_test)\n",
        "acc=accuracy_score(y_test,y_pred)\n",
        "print(acc)"
      ],
      "metadata": {
        "id": "3r2Hz53pTYBD",
        "outputId": "31c3cf38-2368-498a-8a2a-5cfb16d0489b",
        "colab": {
          "base_uri": "https://localhost:8080/"
        }
      },
      "execution_count": 31,
      "outputs": [
        {
          "output_type": "stream",
          "name": "stdout",
          "text": [
            "0.625\n"
          ]
        }
      ]
    }
  ]
}