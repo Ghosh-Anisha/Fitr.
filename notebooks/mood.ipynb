{
  "cells": [
    {
      "cell_type": "code",
      "execution_count": 1,
      "metadata": {
        "id": "StnkE7uGPBIG"
      },
      "outputs": [
        {
          "ename": "ModuleNotFoundError",
          "evalue": "No module named 'pandas'",
          "output_type": "error",
          "traceback": [
            "\u001b[1;31m---------------------------------------------------------------------------\u001b[0m",
            "\u001b[1;31mModuleNotFoundError\u001b[0m                       Traceback (most recent call last)",
            "\u001b[1;32m~\\AppData\\Local\\Temp\\ipykernel_19720\\4018586642.py\u001b[0m in \u001b[0;36m<module>\u001b[1;34m\u001b[0m\n\u001b[1;32m----> 1\u001b[1;33m \u001b[1;32mimport\u001b[0m \u001b[0mpandas\u001b[0m \u001b[1;32mas\u001b[0m \u001b[0mpd\u001b[0m\u001b[1;33m\u001b[0m\u001b[0m\n\u001b[0m\u001b[0;32m      2\u001b[0m \u001b[1;32mimport\u001b[0m \u001b[0mnumpy\u001b[0m \u001b[1;32mas\u001b[0m \u001b[0mnp\u001b[0m\u001b[1;33m\u001b[0m\u001b[0m\n",
            "\u001b[1;31mModuleNotFoundError\u001b[0m: No module named 'pandas'"
          ]
        }
      ],
      "source": [
        "import pandas as pd \n",
        "import numpy as np"
      ]
    },
    {
      "cell_type": "code",
      "execution_count": 24,
      "metadata": {
        "id": "mHbPZgMnPGhk"
      },
      "outputs": [],
      "source": [
        "df = pd.read_csv('/content/25.csv')\n",
        "y=pd.read_csv('/content/25.csv')"
      ]
    },
    {
      "cell_type": "code",
      "execution_count": 3,
      "metadata": {
        "colab": {
          "base_uri": "https://localhost:8080/"
        },
        "id": "ERvT0Z8jPnN3",
        "outputId": "de5240e3-581b-497f-b59e-abe21bd00042"
      },
      "outputs": [
        {
          "data": {
            "text/plain": [
              "<bound method NDFrame.head of           date  step_count  mood  ...  hours_of_sleep  bool_of_active  weight_kg\n",
              "0   2017-10-06        5464   200  ...               5               0         66\n",
              "1   2017-10-07        6041   100  ...               8               0         66\n",
              "2   2017-10-08          25   100  ...               5               0         66\n",
              "3   2017-10-09        5461   100  ...               4               0         66\n",
              "4   2017-10-10        6915   200  ...               5             500         66\n",
              "..         ...         ...   ...  ...             ...             ...        ...\n",
              "91  2018-01-05         133   100  ...               2               0         64\n",
              "92  2018-01-06         153   300  ...               8               0         64\n",
              "93  2018-01-07         500   200  ...               5             500         64\n",
              "94  2018-01-08        2127   200  ...               5               0         64\n",
              "95  2018-01-09        2203   300  ...               5             500         64\n",
              "\n",
              "[96 rows x 7 columns]>"
            ]
          },
          "execution_count": 3,
          "metadata": {},
          "output_type": "execute_result"
        }
      ],
      "source": [
        "df.head"
      ]
    },
    {
      "cell_type": "code",
      "execution_count": 4,
      "metadata": {
        "colab": {
          "base_uri": "https://localhost:8080/"
        },
        "id": "YQ96MGVbPvWf",
        "outputId": "a4a6722e-f436-4052-82ee-02bc29a8da07"
      },
      "outputs": [
        {
          "data": {
            "text/plain": [
              "Index(['date', 'step_count', 'mood', 'calories_burned', 'hours_of_sleep',\n",
              "       'bool_of_active', 'weight_kg'],\n",
              "      dtype='object')"
            ]
          },
          "execution_count": 4,
          "metadata": {},
          "output_type": "execute_result"
        }
      ],
      "source": [
        "df.columns\n"
      ]
    },
    {
      "cell_type": "code",
      "execution_count": 25,
      "metadata": {
        "id": "ACeqAmnPP83D"
      },
      "outputs": [],
      "source": [
        "df.drop(['date','mood'],axis=1,inplace=True)\n",
        "\n",
        "y.drop(['date','step_count','calories_burned', 'hours_of_sleep',\n",
        "       'bool_of_active', 'weight_kg'],axis=1, inplace=True)\n",
        "\n",
        "        "
      ]
    },
    {
      "cell_type": "code",
      "execution_count": 21,
      "metadata": {
        "colab": {
          "base_uri": "https://localhost:8080/"
        },
        "id": "3u0Z8TXpXOk7",
        "outputId": "df8d06da-d3df-49cb-a484-f4667f87dec0"
      },
      "outputs": [
        {
          "data": {
            "text/plain": [
              "<bound method NDFrame.head of 0     200\n",
              "1     100\n",
              "2     100\n",
              "3     100\n",
              "4     200\n",
              "     ... \n",
              "91    100\n",
              "92    300\n",
              "93    200\n",
              "94    200\n",
              "95    300\n",
              "Name: mood, Length: 96, dtype: int64>"
            ]
          },
          "execution_count": 21,
          "metadata": {},
          "output_type": "execute_result"
        }
      ],
      "source": [
        "y.head"
      ]
    },
    {
      "cell_type": "code",
      "execution_count": 26,
      "metadata": {
        "id": "peEyWZYpUfc8"
      },
      "outputs": [],
      "source": [
        "def fun(x):\n",
        "  if x==500:\n",
        "    return 1\n",
        "  else:\n",
        "    return 0\n",
        "df['bool_of_active']=df['bool_of_active'].apply(fun)\n"
      ]
    },
    {
      "cell_type": "code",
      "execution_count": 27,
      "metadata": {
        "id": "7JSJ_w7QVS3G"
      },
      "outputs": [],
      "source": [
        "def fun2(x):\n",
        "  if x==100:\n",
        "    return 1\n",
        "  elif x==200:\n",
        "    return 2\n",
        "  else:\n",
        "    return 3"
      ]
    },
    {
      "cell_type": "code",
      "execution_count": 28,
      "metadata": {
        "id": "3EzfbV2xXFsz"
      },
      "outputs": [],
      "source": [
        "y['mood']=y['mood'].apply(fun2)"
      ]
    },
    {
      "cell_type": "code",
      "execution_count": 10,
      "metadata": {
        "colab": {
          "base_uri": "https://localhost:8080/"
        },
        "id": "13jgcKe-Q7PD",
        "outputId": "a042d047-61f3-4849-b976-5b450466d43c"
      },
      "outputs": [
        {
          "data": {
            "text/plain": [
              "(96, 5)"
            ]
          },
          "execution_count": 10,
          "metadata": {},
          "output_type": "execute_result"
        }
      ],
      "source": [
        "df.shape"
      ]
    },
    {
      "cell_type": "code",
      "execution_count": 29,
      "metadata": {
        "id": "Mb_Gv0QHRuoH"
      },
      "outputs": [],
      "source": [
        "from sklearn.model_selection import cross_val_score\n",
        "from sklearn.model_selection import RepeatedKFold\n",
        "from xgboost import XGBClassifier\n",
        "from sklearn.model_selection import train_test_split\n",
        "\n"
      ]
    },
    {
      "cell_type": "code",
      "execution_count": 30,
      "metadata": {
        "colab": {
          "base_uri": "https://localhost:8080/"
        },
        "id": "lRFxpfuDRYEf",
        "outputId": "6bbe2c1c-7165-4891-8b3d-c9db2cc8ebc0"
      },
      "outputs": [
        {
          "name": "stderr",
          "output_type": "stream",
          "text": [
            "/usr/local/lib/python3.7/dist-packages/sklearn/preprocessing/_label.py:98: DataConversionWarning: A column-vector y was passed when a 1d array was expected. Please change the shape of y to (n_samples, ), for example using ravel().\n",
            "  y = column_or_1d(y, warn=True)\n",
            "/usr/local/lib/python3.7/dist-packages/sklearn/preprocessing/_label.py:133: DataConversionWarning: A column-vector y was passed when a 1d array was expected. Please change the shape of y to (n_samples, ), for example using ravel().\n",
            "  y = column_or_1d(y, warn=True)\n"
          ]
        },
        {
          "data": {
            "text/plain": [
              "XGBClassifier(objective='multi:softprob')"
            ]
          },
          "execution_count": 30,
          "metadata": {},
          "output_type": "execute_result"
        }
      ],
      "source": [
        "model = XGBClassifier()\n",
        "X_train, X_test, y_train, y_test = train_test_split(\n",
        "    df, y, stratify=y, random_state=1121218\n",
        ")\n",
        "model.fit(X_train, y_train)\n"
      ]
    },
    {
      "cell_type": "code",
      "execution_count": 31,
      "metadata": {
        "colab": {
          "base_uri": "https://localhost:8080/"
        },
        "id": "3r2Hz53pTYBD",
        "outputId": "31c3cf38-2368-498a-8a2a-5cfb16d0489b"
      },
      "outputs": [
        {
          "name": "stdout",
          "output_type": "stream",
          "text": [
            "0.625\n"
          ]
        }
      ],
      "source": [
        "from sklearn.metrics import accuracy_score\n",
        "y_pred=model.predict(X_test)\n",
        "acc=accuracy_score(y_test,y_pred)\n",
        "print(acc)"
      ]
    }
  ],
  "metadata": {
    "colab": {
      "name": "mood.ipynb",
      "provenance": []
    },
    "kernelspec": {
      "display_name": "Python 3",
      "name": "python3"
    },
    "language_info": {
      "codemirror_mode": {
        "name": "ipython",
        "version": 3
      },
      "file_extension": ".py",
      "mimetype": "text/x-python",
      "name": "python",
      "nbconvert_exporter": "python",
      "pygments_lexer": "ipython3",
      "version": "3.7.0"
    }
  },
  "nbformat": 4,
  "nbformat_minor": 0
}
